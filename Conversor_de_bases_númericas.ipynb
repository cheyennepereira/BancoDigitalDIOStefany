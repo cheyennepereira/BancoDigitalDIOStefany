{
  "nbformat": 4,
  "nbformat_minor": 0,
  "metadata": {
    "colab": {
      "provenance": [],
      "include_colab_link": true
    },
    "kernelspec": {
      "name": "python3",
      "display_name": "Python 3"
    },
    "language_info": {
      "name": "python"
    }
  },
  "cells": [
    {
      "cell_type": "markdown",
      "metadata": {
        "id": "view-in-github",
        "colab_type": "text"
      },
      "source": [
        "<a href=\"https://colab.research.google.com/github/cheyennepereira/BancoDigitalDIOStefany/blob/master/Conversor_de_bases_n%C3%BAmericas.ipynb\" target=\"_parent\"><img src=\"https://colab.research.google.com/assets/colab-badge.svg\" alt=\"Open In Colab\"/></a>"
      ]
    },
    {
      "cell_type": "code",
      "execution_count": 25,
      "metadata": {
        "id": "6kHPMElL68SN",
        "colab": {
          "base_uri": "https://localhost:8080/"
        },
        "outputId": "da66fcba-c605-4393-acf4-ceec26f0fb2c"
      },
      "outputs": [
        {
          "output_type": "stream",
          "name": "stdout",
          "text": [
            "O estudante está: aprovado\n"
          ]
        }
      ],
      "source": [
        "media = 7.5\n",
        "\n",
        "if(media>=7.0):\n",
        "  situacao = \"aprovado\"\n",
        "elif(media>=5.0):\n",
        "  situacao = \"em recuperação\"\n",
        "else:\n",
        "  situacao = \"reprovado\"\n",
        "\n",
        "print(f'O estudante está: {situacao}')\n"
      ]
    }
  ]
}